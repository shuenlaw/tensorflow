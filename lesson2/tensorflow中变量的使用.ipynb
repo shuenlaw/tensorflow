{
 "cells": [
  {
   "cell_type": "code",
   "execution_count": 7,
   "metadata": {},
   "outputs": [],
   "source": [
    "import tensorflow as tf"
   ]
  },
  {
   "cell_type": "code",
   "execution_count": 9,
   "metadata": {},
   "outputs": [
    {
     "name": "stdout",
     "output_type": "stream",
     "text": [
      "[-2 -1]\n",
      "[-1  1]\n"
     ]
    }
   ],
   "source": [
    "#定义一个tensor，为变量\n",
    "x = tf.Variable([1,2])\n",
    "#创建一个tensor，为常量\n",
    "a = tf.constant([3,3])\n",
    "\n",
    "#创建一个op，做减法\n",
    "sub = tf.subtract(x,a)\n",
    "#shift + table 可以查看函数描述，连续按两次，可以查看详细描述\n",
    "#创建一个op，做加法\n",
    "add = tf.add(x,sub)\n",
    "\n",
    "#初始化全局变量\n",
    "init = tf.global_variables_initializer()\n",
    "\n",
    "#定义会话\n",
    "with tf.Session() as sess:\n",
    "    sess.run(init)#要先初始化变量\n",
    "    print(sess.run(sub))\n",
    "    print(sess.run(add))"
   ]
  },
  {
   "cell_type": "code",
   "execution_count": 14,
   "metadata": {},
   "outputs": [
    {
     "name": "stdout",
     "output_type": "stream",
     "text": [
      "0\n",
      "1\n",
      "2\n",
      "3\n",
      "4\n",
      "5\n"
     ]
    }
   ],
   "source": [
    "#创建一个tensor（张量），名字是counter，值为0，为变量\n",
    "state = tf.Variable(0,name='counter')\n",
    "#创建一个op（operation），做加法\n",
    "new_value = tf.add(state, 1)\n",
    "#创建一个op，做赋值操作，把new_value的值，赋值给state\n",
    "update = tf.assign(state, new_value)\n",
    "\n",
    "init = tf.global_variables_initializer()\n",
    "\n",
    "with tf.Session() as sess:\n",
    "    sess.run(init)\n",
    "    print(sess.run(state))\n",
    "    for _ in range(5):\n",
    "        sess.run(update)\n",
    "        print(sess.run(state))"
   ]
  }
 ],
 "metadata": {
  "kernelspec": {
   "display_name": "Python 3",
   "language": "python",
   "name": "python3"
  },
  "language_info": {
   "codemirror_mode": {
    "name": "ipython",
    "version": 3
   },
   "file_extension": ".py",
   "mimetype": "text/x-python",
   "name": "python",
   "nbconvert_exporter": "python",
   "pygments_lexer": "ipython3",
   "version": "3.6.4"
  }
 },
 "nbformat": 4,
 "nbformat_minor": 2
}
