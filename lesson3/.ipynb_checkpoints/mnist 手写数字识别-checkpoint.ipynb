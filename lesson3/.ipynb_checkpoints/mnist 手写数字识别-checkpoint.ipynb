{
 "cells": [
  {
   "cell_type": "code",
   "execution_count": 8,
   "metadata": {},
   "outputs": [],
   "source": [
    "import tensorflow as tf\n",
    "#这句话，决定我们要使用的是mnist数据集，如果本地没有，tensorflow会从网上自动下载，不过会因为网速等各种原因无法下载，还是使用前手动下载\n",
    "from tensorflow.examples.tutorials.mnist import input_data"
   ]
  },
  {
   "cell_type": "code",
   "execution_count": 41,
   "metadata": {},
   "outputs": [
    {
     "name": "stdout",
     "output_type": "stream",
     "text": [
      "Extracting MNIST_data\\train-images-idx3-ubyte.gz\n",
      "Extracting MNIST_data\\train-labels-idx1-ubyte.gz\n",
      "Extracting MNIST_data\\t10k-images-idx3-ubyte.gz\n",
      "Extracting MNIST_data\\t10k-labels-idx1-ubyte.gz\n",
      "0 loop,accuracy:0.2994999885559082\n",
      "1 loop,accuracy:0.43970000743865967\n",
      "2 loop,accuracy:0.5235000252723694\n",
      "3 loop,accuracy:0.5717999935150146\n",
      "4 loop,accuracy:0.6180999875068665\n",
      "5 loop,accuracy:0.652999997138977\n",
      "6 loop,accuracy:0.6808000206947327\n",
      "7 loop,accuracy:0.699400007724762\n",
      "8 loop,accuracy:0.7164999842643738\n",
      "9 loop,accuracy:0.7264999747276306\n",
      "10 loop,accuracy:0.7365999817848206\n",
      "11 loop,accuracy:0.7447999715805054\n",
      "12 loop,accuracy:0.7523000240325928\n",
      "13 loop,accuracy:0.7591999769210815\n",
      "14 loop,accuracy:0.7651000022888184\n",
      "15 loop,accuracy:0.7682999968528748\n",
      "16 loop,accuracy:0.7732999920845032\n",
      "17 loop,accuracy:0.7764999866485596\n",
      "18 loop,accuracy:0.7789999842643738\n",
      "19 loop,accuracy:0.7821000218391418\n",
      "20 loop,accuracy:0.7839000225067139\n"
     ]
    }
   ],
   "source": [
    "#导入数据，one_hot将数据转换为2进制，如（7->0010000000）\n",
    "mnist = input_data.read_data_sets(\"MNIST_data\",one_hot=True)\n",
    "\n",
    "#批次大小，每次训练20个\n",
    "batch_size = 20\n",
    "#批次总数，整除 //\n",
    "n_batch = mnist.train.num_examples // batch_size\n",
    "\n",
    "#定义两个placeholder，行数等于批次大小，列数等于一张图片（28*28）\n",
    "x = tf.placeholder(tf.float32,[None,784])\n",
    "#标签，0~9一共10个数字，占10位，例如 7（0010000000）\n",
    "y = tf.placeholder(tf.float32,[None,10])\n",
    "'''\n",
    "#创建一个简单的神经网络（784*10），一个输入层一个输出层,初始化为0的效果意外的好\n",
    "W = tf.Variable(tf.zeros([784,10]))\n",
    "b = tf.Variable(tf.zeros([1,10]))\n",
    "L1 = tf.matmul(x,W)+b\n",
    "#softmax输出\n",
    "prediction = tf.nn.softmax(L1)\n",
    "'''\n",
    "#-----------------------优化---------------------------\n",
    "#(784*30*10),此处用随机初始化效果更好\n",
    "Weights_L1 = tf.Variable(tf.random_normal([784,30]))\n",
    "biases_L1 = tf.Variable(tf.zeros([1,30]))\n",
    "xW_plus_b_L1 = tf.matmul(x,Weights_L1)+biases_L1\n",
    "L1 = tf.nn.sigmoid(xW_plus_b_L1)\n",
    "\n",
    "Weights_L2 = tf.Variable(tf.random_normal([30,10]))\n",
    "biases_L2 = tf.Variable(tf.zeros([1,10]))\n",
    "xW_plus_b_L2 = tf.matmul(L1,Weights_L2)+biases_L2\n",
    "prediction = tf.nn.softmax(xW_plus_b_L2)\n",
    "#-----------------------优化---------------------------\n",
    "\n",
    "#定义二次代价函数\n",
    "loss = tf.reduce_mean(tf.square(y-prediction))\n",
    "#使用梯度下降法\n",
    "train = tf.train.GradientDescentOptimizer(0.2).minimize(loss)\n",
    "\n",
    "#求准确率,结果存放在一个布尔型的列表中\n",
    "correct = tf.equal(tf.argmax(y,1),tf.argmax(prediction,1))\n",
    "#tf.cast()转换数据类型\n",
    "accuracy = tf.reduce_mean(tf.cast(correct,tf.float32))\n",
    "\n",
    "with tf.Session() as sess:\n",
    "    sess.run(tf.global_variables_initializer())\n",
    "    for epoch in range(210):#整个训练数据，训练21轮\n",
    "        for batch in range(n_batch):#每一轮中，按小批次来训练\n",
    "            #分别获取批次数据\n",
    "            batch_xs,batch_ys = mnist.train.next_batch(batch_size)\n",
    "            sess.run(train,feed_dict={x:batch_xs,y:batch_ys})\n",
    "        accu= sess.run(accuracy,feed_dict={x:mnist.test.images,y:mnist.test.labels})\n",
    "        print(\"{0} loop,accuracy:{1}\".format(epoch,accu))"
   ]
  },
  {
   "cell_type": "code",
   "execution_count": null,
   "metadata": {},
   "outputs": [],
   "source": []
  }
 ],
 "metadata": {
  "kernelspec": {
   "display_name": "Python 3",
   "language": "python",
   "name": "python3"
  },
  "language_info": {
   "codemirror_mode": {
    "name": "ipython",
    "version": 3
   },
   "file_extension": ".py",
   "mimetype": "text/x-python",
   "name": "python",
   "nbconvert_exporter": "python",
   "pygments_lexer": "ipython3",
   "version": "3.6.4"
  }
 },
 "nbformat": 4,
 "nbformat_minor": 2
}
