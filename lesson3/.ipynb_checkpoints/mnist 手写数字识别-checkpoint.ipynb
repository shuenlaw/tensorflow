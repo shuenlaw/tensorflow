{
 "cells": [
  {
   "cell_type": "code",
   "execution_count": 2,
   "metadata": {},
   "outputs": [
    {
     "name": "stderr",
     "output_type": "stream",
     "text": [
      "C:\\Users\\Administrator\\Anaconda3\\lib\\site-packages\\h5py\\__init__.py:36: FutureWarning: Conversion of the second argument of issubdtype from `float` to `np.floating` is deprecated. In future, it will be treated as `np.float64 == np.dtype(float).type`.\n",
      "  from ._conv import register_converters as _register_converters\n"
     ]
    }
   ],
   "source": [
    "import tensorflow as tf\n",
    "#这句话，决定我们要使用的是mnist数据集，如果本地没有，tensorflow会从网上自动下载，不过会因为网速等各种原因无法下载，还是使用前手动下载\n",
    "from tensorflow.examples.tutorials.mnist import input_data"
   ]
  },
  {
   "cell_type": "code",
   "execution_count": 5,
   "metadata": {},
   "outputs": [
    {
     "name": "stdout",
     "output_type": "stream",
     "text": [
      "Extracting MNIST_data\\train-images-idx3-ubyte.gz\n",
      "Extracting MNIST_data\\train-labels-idx1-ubyte.gz\n",
      "Extracting MNIST_data\\t10k-images-idx3-ubyte.gz\n",
      "Extracting MNIST_data\\t10k-labels-idx1-ubyte.gz\n",
      "WARNING:tensorflow:From <ipython-input-5-841e2b5064fb>:23: softmax_cross_entropy_with_logits (from tensorflow.python.ops.nn_ops) is deprecated and will be removed in a future version.\n",
      "Instructions for updating:\n",
      "\n",
      "Future major versions of TensorFlow will allow gradients to flow\n",
      "into the labels input on backprop by default.\n",
      "\n",
      "See @{tf.nn.softmax_cross_entropy_with_logits_v2}.\n",
      "\n",
      "0 loop,accuracy:0.9056000113487244\n",
      "1 loop,accuracy:0.9079999923706055\n",
      "2 loop,accuracy:0.9086999893188477\n",
      "3 loop,accuracy:0.9071999788284302\n",
      "4 loop,accuracy:0.910099983215332\n",
      "5 loop,accuracy:0.916100025177002\n",
      "6 loop,accuracy:0.9099000096321106\n",
      "7 loop,accuracy:0.9061999917030334\n",
      "8 loop,accuracy:0.909600019454956\n",
      "9 loop,accuracy:0.9063000082969666\n",
      "10 loop,accuracy:0.9118000268936157\n",
      "11 loop,accuracy:0.9103999733924866\n",
      "12 loop,accuracy:0.9085999727249146\n",
      "13 loop,accuracy:0.9139000177383423\n",
      "14 loop,accuracy:0.9139999747276306\n",
      "15 loop,accuracy:0.916100025177002\n",
      "16 loop,accuracy:0.9139000177383423\n",
      "17 loop,accuracy:0.9100000262260437\n",
      "18 loop,accuracy:0.9162999987602234\n",
      "19 loop,accuracy:0.9146000146865845\n",
      "20 loop,accuracy:0.9129999876022339\n"
     ]
    }
   ],
   "source": [
    "#导入数据，one_hot将数据转换为2进制，如（7->0010000000）\n",
    "mnist = input_data.read_data_sets(\"MNIST_data\",one_hot=True)\n",
    "\n",
    "#批次大小，每次训练20个\n",
    "batch_size = 100\n",
    "#批次总数，整除 //\n",
    "n_batch = mnist.train.num_examples // batch_size\n",
    "\n",
    "#定义两个placeholder，行数等于批次大小，列数等于一张图片（28*28）\n",
    "x = tf.placeholder(tf.float32,[None,784])\n",
    "#标签，0~9一共10个数字，占10位，例如 7（0010000000）\n",
    "y = tf.placeholder(tf.float32,[None,10])\n",
    "\n",
    "#创建一个简单的神经网络（784*10），一个输入层一个输出层,初始化为0的效果意外的好\n",
    "W = tf.Variable(tf.zeros([784,10]))\n",
    "b = tf.Variable(tf.zeros([1,10]))\n",
    "L1 = tf.matmul(x,W)+b\n",
    "#softmax输出\n",
    "prediction = tf.nn.sigmoid(L1)\n",
    "\n",
    "#定义二次代价函数\n",
    "#loss = tf.reduce_mean(tf.square(y-prediction))\n",
    "loss = tf.nn.softmax_cross_entropy_with_logits(labels=y,logits=prediction)\n",
    "#使用梯度下降法\n",
    "train = tf.train.GradientDescentOptimizer(0.2).minimize(loss)\n",
    "\n",
    "#求准确率,结果存放在一个布尔型的列表中\n",
    "correct = tf.equal(tf.argmax(y,1),tf.argmax(prediction,1))\n",
    "#tf.cast()转换数据类型\n",
    "accuracy = tf.reduce_mean(tf.cast(correct,tf.float32))\n",
    "\n",
    "with tf.Session() as sess:\n",
    "    sess.run(tf.global_variables_initializer())\n",
    "    for epoch in range(21):#整个训练数据，训练21轮\n",
    "        for batch in range(n_batch):#每一轮中，按小批次来训练\n",
    "            #分别获取批次数据\n",
    "            batch_xs,batch_ys = mnist.train.next_batch(batch_size)\n",
    "            sess.run(train,feed_dict={x:batch_xs,y:batch_ys})\n",
    "        accu= sess.run(accuracy,feed_dict={x:mnist.test.images,y:mnist.test.labels})\n",
    "        print(\"{0} loop,accuracy:{1}\".format(epoch,accu))"
   ]
  },
  {
   "cell_type": "code",
   "execution_count": null,
   "metadata": {},
   "outputs": [],
   "source": [
    "#二次代价函数\n",
    "0 loop,accuracy:0.819100022315979\n",
    "1 loop,accuracy:0.8525999784469604\n",
    "2 loop,accuracy:0.8651000261306763\n",
    "3 loop,accuracy:0.8726000189781189\n",
    "4 loop,accuracy:0.8755000233650208\n",
    "5 loop,accuracy:0.8815000057220459\n",
    "6 loop,accuracy:0.883400022983551\n",
    "7 loop,accuracy:0.886900007724762\n",
    "8 loop,accuracy:0.8885999917984009\n",
    "9 loop,accuracy:0.8910999894142151\n",
    "10 loop,accuracy:0.8916000127792358\n",
    "11 loop,accuracy:0.8934999704360962\n",
    "12 loop,accuracy:0.8942999839782715\n",
    "13 loop,accuracy:0.895799994468689\n",
    "14 loop,accuracy:0.8952000141143799\n",
    "15 loop,accuracy:0.8963000178337097\n",
    "16 loop,accuracy:0.8978999853134155\n",
    "17 loop,accuracy:0.8988999724388123\n",
    "18 loop,accuracy:0.8989999890327454\n",
    "19 loop,accuracy:0.9003999829292297\n",
    "20 loop,accuracy:0.9003999829292297\n",
    "    \n",
    "    \n",
    "#交叉熵代价函数\n",
    "0 loop,accuracy:0.9056000113487244\n",
    "1 loop,accuracy:0.9079999923706055\n",
    "2 loop,accuracy:0.9086999893188477\n",
    "3 loop,accuracy:0.9071999788284302\n",
    "4 loop,accuracy:0.910099983215332\n",
    "5 loop,accuracy:0.916100025177002\n",
    "6 loop,accuracy:0.9099000096321106\n",
    "7 loop,accuracy:0.9061999917030334\n",
    "8 loop,accuracy:0.909600019454956\n",
    "9 loop,accuracy:0.9063000082969666\n",
    "10 loop,accuracy:0.9118000268936157\n",
    "11 loop,accuracy:0.9103999733924866\n",
    "12 loop,accuracy:0.9085999727249146\n",
    "13 loop,accuracy:0.9139000177383423\n",
    "14 loop,accuracy:0.9139999747276306\n",
    "15 loop,accuracy:0.916100025177002\n",
    "16 loop,accuracy:0.9139000177383423\n",
    "17 loop,accuracy:0.9100000262260437\n",
    "18 loop,accuracy:0.9162999987602234\n",
    "19 loop,accuracy:0.9146000146865845\n",
    "20 loop,accuracy:0.9129999876022339"
   ]
  }
 ],
 "metadata": {
  "kernelspec": {
   "display_name": "Python 3",
   "language": "python",
   "name": "python3"
  },
  "language_info": {
   "codemirror_mode": {
    "name": "ipython",
    "version": 3
   },
   "file_extension": ".py",
   "mimetype": "text/x-python",
   "name": "python",
   "nbconvert_exporter": "python",
   "pygments_lexer": "ipython3",
   "version": "3.6.4"
  }
 },
 "nbformat": 4,
 "nbformat_minor": 2
}
