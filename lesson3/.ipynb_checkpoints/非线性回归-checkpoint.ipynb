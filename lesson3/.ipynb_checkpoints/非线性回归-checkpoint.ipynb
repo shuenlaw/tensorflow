{
 "cells": [
  {
   "cell_type": "markdown",
   "metadata": {},
   "source": [
    "# 使用（1-10-1）的全连接神经网络，做线性回归"
   ]
  },
  {
   "cell_type": "code",
   "execution_count": 8,
   "metadata": {},
   "outputs": [],
   "source": [
    "import tensorflow as tf\n",
    "import numpy as np\n",
    "import matplotlib.pyplot as plt"
   ]
  },
  {
   "cell_type": "code",
   "execution_count": 36,
   "metadata": {},
   "outputs": [
    {
     "data": {
      "image/png": "[encoded data removed]",
      "text/plain": [
       "<matplotlib.figure.Figure at 0x2beb7210390>"
      ]
     },
     "metadata": {},
     "output_type": "display_data"
    }
   ],
   "source": [
    "#样本集合（x_data,y_data），使用numpy生成200个随机点，x_data和y_data都是（200，1）的数组\n",
    "x_data = np.linspace(-0.5, 0.5, 200).reshape(200,1)\n",
    "#正态分布（0，0.02）产生噪声\n",
    "noise = np.random.normal(0, 0.02, x_data.shape)\n",
    "#使用噪声，产生误差，使样本点分布不均匀\n",
    "y_data = np.square(x_data) + noise\n",
    "\n",
    "\n",
    "#定义两个placeholder（占位符），传参用\n",
    "x = tf.placeholder(tf.float32, [None,1])#定义形状，行数不定，列数为1 \n",
    "y = tf.placeholder(tf.float32, [None,1])\n",
    "\n",
    "#-------------------------------------------------------------------------------------------创建神经网络\n",
    "#创建tensor表示中间层L1（第一个中间层），10个神经元\n",
    "Weights_L1 = tf.Variable(tf.random_normal([1, 10]))#1代表1个输入，10代表10个输出\n",
    "biases_L1 = tf.Variable(tf.zeros([1, 10]))\n",
    "Wx_puls_b_L1 = tf.matmul(x, Weights_L1) + biases_L1#矩阵乘法，求带权输入\n",
    "#使用tanh作为激活函数\n",
    "L1 = tf.nn.tanh(Wx_puls_b_L1)\n",
    "\n",
    "#创建tensor表示输出层\n",
    "Weights_L2 = tf.Variable(tf.random_normal([10, 1]))#输出层只有一个神经元，接受10个输入产生1个输出\n",
    "biases_L2 = tf.Variable(tf.zeros([1,1]))\n",
    "Wx_puls_b_L2 = tf.matmul(L1, Weights_L2) + biases_L2\n",
    "prediction = tf.nn.tanh(Wx_puls_b_L2)\n",
    "#-------------------------------------------------------------------------------------------创建神经网络\n",
    "\n",
    "#定义代价函数，二次代价函数\n",
    "loss = tf.reduce_mean(tf.square(y-prediction))\n",
    "#使用梯度下降法，作为优化器\n",
    "optimizer = tf.train.GradientDescentOptimizer(0.2)\n",
    "#使用优化器，最小化代价函数\n",
    "train = optimizer.minimize(loss)\n",
    "\n",
    "with tf.Session() as sess:\n",
    "    #初始化全局变量\n",
    "    sess.run(tf.global_variables_initializer())\n",
    "    for _ in range(2000):\n",
    "        sess.run(train, feed_dict={x:x_data, y:y_data})\n",
    "    \n",
    "    #获得预测值\n",
    "    prediction_value = sess.run(prediction, feed_dict={x:x_data})\n",
    "    #画图\n",
    "    plt.figure()\n",
    "    plt.scatter(x_data, y_data)\n",
    "    plt.plot(x_data, prediction_value, 'r')\n",
    "    plt.show()\n",
    "    print(sess.run(loss,feed_dict={x:x_data, y:y_data}))"
   ]
  },
  {
   "cell_type": "code",
   "execution_count": 2,
   "metadata": {},
   "outputs": [
    {
     "ename": "NameError",
     "evalue": "name 'sess' is not defined",
     "output_type": "error",
     "traceback": [
      "\u001b[1;31m---------------------------------------------------------------------------\u001b[0m",
      "\u001b[1;31mNameError\u001b[0m                                 Traceback (most recent call last)",
      "\u001b[1;32m<ipython-input-2-2544e7505a3f>\u001b[0m in \u001b[0;36m<module>\u001b[1;34m()\u001b[0m\n\u001b[1;32m----> 1\u001b[1;33m \u001b[0mprint\u001b[0m\u001b[1;33m(\u001b[0m\u001b[0msess\u001b[0m\u001b[1;33m.\u001b[0m\u001b[0mrun\u001b[0m\u001b[1;33m(\u001b[0m\u001b[0mloss\u001b[0m\u001b[1;33m,\u001b[0m\u001b[0mfeed_dict\u001b[0m\u001b[1;33m=\u001b[0m\u001b[1;33m{\u001b[0m\u001b[0mx\u001b[0m\u001b[1;33m:\u001b[0m\u001b[0mx_data\u001b[0m\u001b[1;33m,\u001b[0m \u001b[0my\u001b[0m\u001b[1;33m:\u001b[0m\u001b[0my_data\u001b[0m\u001b[1;33m}\u001b[0m\u001b[1;33m)\u001b[0m\u001b[1;33m)\u001b[0m\u001b[1;33m\u001b[0m\u001b[0m\n\u001b[0m",
      "\u001b[1;31mNameError\u001b[0m: name 'sess' is not defined"
     ]
    }
   ],
   "source": []
  },
  {
   "cell_type": "markdown",
   "metadata": {},
   "source": [
    "样本是以行排列的\n",
    "中间的层就按输入和输出来定义"
   ]
  }
 ],
 "metadata": {
  "kernelspec": {
   "display_name": "Python 3",
   "language": "python",
   "name": "python3"
  },
  "language_info": {
   "codemirror_mode": {
    "name": "ipython",
    "version": 3
   },
   "file_extension": ".py",
   "mimetype": "text/x-python",
   "name": "python",
   "nbconvert_exporter": "python",
   "pygments_lexer": "ipython3",
   "version": "3.6.4"
  }
 },
 "nbformat": 4,
 "nbformat_minor": 2
}
