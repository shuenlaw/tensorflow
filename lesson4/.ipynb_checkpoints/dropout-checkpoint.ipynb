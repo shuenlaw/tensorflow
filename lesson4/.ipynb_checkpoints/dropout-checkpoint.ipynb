{
 "cells": [
  {
   "cell_type": "code",
   "execution_count": 4,
   "metadata": {},
   "outputs": [],
   "source": [
    "import tensorflow as tf\n",
    "from tensorflow.examples.tutorials.mnist import input_data\n",
    "'''\n",
    "使用dropout技术：\n",
    "1.整个网络收敛变慢\n",
    "2.过拟合现象减轻，test_accu和train_accu差值变小\n",
    "        ‘7 loop,train_accuracy:0.956709086894989,test_accuracy:0.955299973487854’\n",
    "        ’7 loop,train_accuracy:0.9929636120796204,test_accuracy:0.9746000170707703‘\n",
    "3.网络的最终性能得到提升\n",
    "'''"
   ]
  },
  {
   "cell_type": "code",
   "execution_count": null,
   "metadata": {},
   "outputs": [
    {
     "name": "stdout",
     "output_type": "stream",
     "text": [
      "Extracting MNIST_data\\train-images-idx3-ubyte.gz\n",
      "Extracting MNIST_data\\train-labels-idx1-ubyte.gz\n",
      "Extracting MNIST_data\\t10k-images-idx3-ubyte.gz\n",
      "Extracting MNIST_data\\t10k-labels-idx1-ubyte.gz\n",
      "0 loop,train_accuracy:0.9118909239768982,test_accuracy:0.9186999797821045\n",
      "1 loop,train_accuracy:0.9222363829612732,test_accuracy:0.926800012588501\n",
      "2 loop,train_accuracy:0.9376545548439026,test_accuracy:0.9383000135421753\n",
      "3 loop,train_accuracy:0.9438909292221069,test_accuracy:0.9444000124931335\n",
      "4 loop,train_accuracy:0.9475091099739075,test_accuracy:0.9478999972343445\n",
      "5 loop,train_accuracy:0.9502545595169067,test_accuracy:0.9488999843597412\n",
      "6 loop,train_accuracy:0.9539818167686462,test_accuracy:0.9501000046730042\n",
      "7 loop,train_accuracy:0.956709086894989,test_accuracy:0.955299973487854\n",
      "8 loop,train_accuracy:0.9589454531669617,test_accuracy:0.9567999839782715\n"
     ]
    }
   ],
   "source": [
    "mnist = input_data.read_data_sets(\"MNIST_data\",one_hot=True)\n",
    "batch_size = 100\n",
    "n_batch = mnist.train.num_examples // batch_size\n",
    "\n",
    "x = tf.placeholder(tf.float32,[None,784])\n",
    "y = tf.placeholder(tf.float32,[None,10])\n",
    "keep_prob = tf.placeholder(tf.float32)\n",
    "\n",
    "#截断的正态分布初始化\n",
    "W1 = tf.Variable(tf.truncated_normal([784,2000],stddev=0.1))\n",
    "b1 = tf.Variable(tf.zeros([1,2000])+0.1)\n",
    "L1 = tf.nn.tanh(tf.matmul(x,W1)+b1)\n",
    "#L1：要使用dropout的层，keep_prob：工作神经元的百分数\n",
    "L1_drop = tf.nn.dropout(L1,keep_prob)\n",
    "\n",
    "W2 = tf.Variable(tf.truncated_normal([2000,2000],stddev=0.1))\n",
    "b2 = tf.Variable(tf.zeros([1,2000])+0.1)\n",
    "L2 = tf.nn.tanh(tf.matmul(L1_drop,W2)+b2)\n",
    "L2_drop = tf.nn.dropout(L2,keep_prob)\n",
    "\n",
    "W3 = tf.Variable(tf.truncated_normal([2000,1000],stddev=0.1))\n",
    "b3 = tf.Variable(tf.zeros([1,1000])+0.1)\n",
    "L3 = tf.nn.tanh(tf.matmul(L2_drop,W3)+b3)\n",
    "L3_drop = tf.nn.dropout(L3,keep_prob)\n",
    "\n",
    "W4 = tf.Variable(tf.truncated_normal([1000,10],stddev=0.1))\n",
    "b4 = tf.Variable(tf.zeros([1,10])+0.1)\n",
    "prediction = tf.nn.tanh(tf.matmul(L3_drop,W4)+b4)\n",
    "\n",
    "\n",
    "loss = tf.reduce_mean(tf.nn.softmax_cross_entropy_with_logits_v2(labels=y,logits=prediction))\n",
    "train = tf.train.GradientDescentOptimizer(0.2).minimize(loss)\n",
    "\n",
    "correct = tf.equal(tf.argmax(y,1),tf.argmax(prediction,1))\n",
    "accuracy = tf.reduce_mean(tf.cast(correct,tf.float32))\n",
    "\n",
    "with tf.Session() as sess:\n",
    "    sess.run(tf.global_variables_initializer())\n",
    "    for epoch in range(21):\n",
    "        for batch in range(n_batch):\n",
    "            batch_xs,batch_ys = mnist.train.next_batch(batch_size)\n",
    "            #每训练一个batch（100）个神经元时，都只让（随机）70%的神经元工作\n",
    "            sess.run(train,feed_dict={x:batch_xs,y:batch_ys,keep_prob:0.7})\n",
    "        #测试时，还是让全部的神经元工作\n",
    "        test_accu= sess.run(accuracy,feed_dict={x:mnist.test.images,y:mnist.test.labels,keep_prob:1.0})\n",
    "        train_accu= sess.run(accuracy,feed_dict={x:mnist.train.images,y:mnist.train.labels,keep_prob:1.0})\n",
    "        print(\"{0} loop,train_accuracy:{1},test_accuracy:{2}\".format(epoch,train_accu,test_accu))"
   ]
  },
  {
   "cell_type": "code",
   "execution_count": null,
   "metadata": {},
   "outputs": [],
   "source": [
    "0 loop,train_accuracy:0.9581636190414429,test_accuracy:0.9498000144958496\n",
    "1 loop,train_accuracy:0.9737091064453125,test_accuracy:0.9617000222206116\n",
    "2 loop,train_accuracy:0.9821636080741882,test_accuracy:0.9659000039100647\n",
    "3 loop,train_accuracy:0.9865818023681641,test_accuracy:0.9702000021934509\n",
    "4 loop,train_accuracy:0.9895636439323425,test_accuracy:0.9718999862670898\n",
    "5 loop,train_accuracy:0.9914727210998535,test_accuracy:0.9726999998092651\n",
    "6 loop,train_accuracy:0.9927636384963989,test_accuracy:0.9732999801635742\n",
    "7 loop,train_accuracy:0.9929636120796204,test_accuracy:0.9746000170707703\n",
    "8 loop,train_accuracy:0.993436336517334,test_accuracy:0.9749000072479248\n",
    "9 loop,train_accuracy:0.9937272667884827,test_accuracy:0.9746000170707703\n",
    "10 loop,train_accuracy:0.9939454793930054,test_accuracy:0.9749000072479248\n",
    "11 loop,train_accuracy:0.9941272735595703,test_accuracy:0.9753000140190125\n",
    "12 loop,train_accuracy:0.9941454529762268,test_accuracy:0.9757999777793884\n",
    "13 loop,train_accuracy:0.9941454529762268,test_accuracy:0.9750000238418579\n",
    "14 loop,train_accuracy:0.9942545294761658,test_accuracy:0.9754999876022339\n",
    "15 loop,train_accuracy:0.9942908883094788,test_accuracy:0.9757000207901001\n",
    "16 loop,train_accuracy:0.9944000244140625,test_accuracy:0.9761999845504761\n",
    "17 loop,train_accuracy:0.9944727420806885,test_accuracy:0.9757999777793884\n",
    "18 loop,train_accuracy:0.9944727420806885,test_accuracy:0.9757999777793884\n",
    "19 loop,train_accuracy:0.9946545362472534,test_accuracy:0.9757999777793884\n",
    "20 loop,train_accuracy:0.9945091009140015,test_accuracy:0.9757000207901001"
   ]
  }
 ],
 "metadata": {
  "kernelspec": {
   "display_name": "Python 3",
   "language": "python",
   "name": "python3"
  },
  "language_info": {
   "codemirror_mode": {
    "name": "ipython",
    "version": 3
   },
   "file_extension": ".py",
   "mimetype": "text/x-python",
   "name": "python",
   "nbconvert_exporter": "python",
   "pygments_lexer": "ipython3",
   "version": "3.6.4"
  }
 },
 "nbformat": 4,
 "nbformat_minor": 2
}
