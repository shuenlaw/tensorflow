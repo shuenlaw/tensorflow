{
 "cells": [
  {
   "cell_type": "code",
   "execution_count": 17,
   "metadata": {
    "collapsed": true
   },
   "outputs": [
    {
     "data": {
      "text/plain": [
       "'\\n使用dropout技术：\\n1.整个网络收敛变慢\\n2.过拟合现象减轻，test_accu和train_accu差值变小，网络规模越大，dropout效果越明显\\n        ‘7 loop,train_accuracy:0.956709086894989,test_accuracy:0.955299973487854’\\n        ’7 loop,train_accuracy:0.9929636120796204,test_accuracy:0.9746000170707703‘\\n3.网络的最终性能得到提升\\n'"
      ]
     },
     "execution_count": 17,
     "metadata": {},
     "output_type": "execute_result"
    }
   ],
   "source": [
    "import tensorflow as tf\n",
    "from tensorflow.examples.tutorials.mnist import input_data\n",
    "'''\n",
    "使用dropout技术：\n",
    "1.整个网络收敛变慢\n",
    "2.过拟合现象减轻，test_accu和train_accu差值变小，网络规模越大，dropout效果越明显\n",
    "        ‘7 loop,train_accuracy:0.956709086894989,test_accuracy:0.955299973487854’\n",
    "        ’7 loop,train_accuracy:0.9929636120796204,test_accuracy:0.9746000170707703‘\n",
    "3.网络的最终性能得到提升\n",
    "'''"
   ]
  },
  {
   "cell_type": "code",
   "execution_count": 27,
   "metadata": {},
   "outputs": [
    {
     "name": "stdout",
     "output_type": "stream",
     "text": [
      "Extracting MNIST_data\\train-images-idx3-ubyte.gz\n",
      "Extracting MNIST_data\\train-labels-idx1-ubyte.gz\n",
      "Extracting MNIST_data\\t10k-images-idx3-ubyte.gz\n",
      "Extracting MNIST_data\\t10k-labels-idx1-ubyte.gz\n"
     ]
    },
    {
     "ename": "NameError",
     "evalue": "name 'learning_rater' is not defined",
     "output_type": "error",
     "traceback": [
      "\u001b[1;31m---------------------------------------------------------------------------\u001b[0m",
      "\u001b[1;31mNameError\u001b[0m                                 Traceback (most recent call last)",
      "\u001b[1;32m<ipython-input-27-3d1eac08cd5b>\u001b[0m in \u001b[0;36m<module>\u001b[1;34m()\u001b[0m\n\u001b[0;32m     45\u001b[0m         \u001b[0mtrain_accu\u001b[0m\u001b[1;33m=\u001b[0m \u001b[0msess\u001b[0m\u001b[1;33m.\u001b[0m\u001b[0mrun\u001b[0m\u001b[1;33m(\u001b[0m\u001b[0maccuracy\u001b[0m\u001b[1;33m,\u001b[0m\u001b[0mfeed_dict\u001b[0m\u001b[1;33m=\u001b[0m\u001b[1;33m{\u001b[0m\u001b[0mx\u001b[0m\u001b[1;33m:\u001b[0m\u001b[0mmnist\u001b[0m\u001b[1;33m.\u001b[0m\u001b[0mtrain\u001b[0m\u001b[1;33m.\u001b[0m\u001b[0mimages\u001b[0m\u001b[1;33m,\u001b[0m\u001b[0my\u001b[0m\u001b[1;33m:\u001b[0m\u001b[0mmnist\u001b[0m\u001b[1;33m.\u001b[0m\u001b[0mtrain\u001b[0m\u001b[1;33m.\u001b[0m\u001b[0mlabels\u001b[0m\u001b[1;33m,\u001b[0m\u001b[0mkeep_prob\u001b[0m\u001b[1;33m:\u001b[0m\u001b[1;36m1.0\u001b[0m\u001b[1;33m}\u001b[0m\u001b[1;33m)\u001b[0m\u001b[1;33m\u001b[0m\u001b[0m\n\u001b[0;32m     46\u001b[0m         \u001b[0mlearning_rate\u001b[0m \u001b[1;33m=\u001b[0m \u001b[0msess\u001b[0m\u001b[1;33m.\u001b[0m\u001b[0mrun\u001b[0m\u001b[1;33m(\u001b[0m\u001b[0mlr\u001b[0m\u001b[1;33m)\u001b[0m\u001b[1;33m\u001b[0m\u001b[0m\n\u001b[1;32m---> 47\u001b[1;33m         \u001b[0mprint\u001b[0m\u001b[1;33m(\u001b[0m\u001b[1;34m\"{0} loop,train_accuracy:{1},test_accuracy:{2},learning_rate:{3}\"\u001b[0m\u001b[1;33m.\u001b[0m\u001b[0mformat\u001b[0m\u001b[1;33m(\u001b[0m\u001b[0mepoch\u001b[0m\u001b[1;33m,\u001b[0m\u001b[0mtrain_accu\u001b[0m\u001b[1;33m,\u001b[0m\u001b[0mtest_accu\u001b[0m\u001b[1;33m,\u001b[0m\u001b[0mstr\u001b[0m\u001b[1;33m(\u001b[0m\u001b[0mlearning_rater\u001b[0m\u001b[1;33m)\u001b[0m\u001b[1;33m)\u001b[0m\u001b[1;33m)\u001b[0m\u001b[1;33m\u001b[0m\u001b[0m\n\u001b[0m",
      "\u001b[1;31mNameError\u001b[0m: name 'learning_rater' is not defined"
     ]
    }
   ],
   "source": [
    "mnist = input_data.read_data_sets(\"MNIST_data\",one_hot=True)\n",
    "batch_size = 100\n",
    "n_batch = mnist.train.num_examples // batch_size\n",
    "\n",
    "x = tf.placeholder(tf.float32,[None,784])\n",
    "y = tf.placeholder(tf.float32,[None,10])\n",
    "keep_prob = tf.placeholder(tf.float32)\n",
    "#初始学习率\n",
    "lr = tf.Variable(0.001,dtype=tf.float32)\n",
    "\n",
    "#截断的正态分布初始化\n",
    "W1 = tf.Variable(tf.truncated_normal([784,500],stddev=0.1))\n",
    "b1 = tf.Variable(tf.zeros([1,500])+0.1)\n",
    "L1 = tf.nn.tanh(tf.matmul(x,W1)+b1)\n",
    "#L1：要使用dropout的层，keep_prob：工作神经元的百分数\n",
    "L1_drop = tf.nn.dropout(L1,keep_prob)\n",
    "\n",
    "W2 = tf.Variable(tf.truncated_normal([500,300],stddev=0.1))\n",
    "b2 = tf.Variable(tf.zeros([1,300])+0.1)\n",
    "L2 = tf.nn.tanh(tf.matmul(L1_drop,W2)+b2)\n",
    "L2_drop = tf.nn.dropout(L2,keep_prob)\n",
    "\n",
    "W3 = tf.Variable(tf.truncated_normal([300,10],stddev=0.1))\n",
    "b3 = tf.Variable(tf.zeros([1,10])+0.1)\n",
    "prediction = tf.nn.softmax(tf.matmul(L2_drop,W3)+b3)\n",
    "\n",
    "\n",
    "loss = tf.reduce_mean(tf.nn.softmax_cross_entropy_with_logits_v2(labels=y,logits=prediction))\n",
    "train = tf.train.AdamOptimizer(lr).minimize(loss)\n",
    "\n",
    "correct = tf.equal(tf.argmax(y,1),tf.argmax(prediction,1))\n",
    "accuracy = tf.reduce_mean(tf.cast(correct,tf.float32))\n",
    "\n",
    "with tf.Session() as sess:\n",
    "    sess.run(tf.global_variables_initializer())\n",
    "    for epoch in range(51):\n",
    "        #每迭代一次，学习率降低5%\n",
    "        sess.run(tf.assign(lr,0.001*(0.95**epoch)))\n",
    "        for batch in range(n_batch):\n",
    "            batch_xs,batch_ys = mnist.train.next_batch(batch_size)\n",
    "            #每训练一个batch（100）个神经元时，都只让（随机）70%的神经元工作\n",
    "            sess.run(train,feed_dict={x:batch_xs,y:batch_ys,keep_prob:0.8})\n",
    "        #测试时，还是让全部的神经元工作\n",
    "        test_accu= sess.run(accuracy,feed_dict={x:mnist.test.images,y:mnist.test.labels,keep_prob:1.0})\n",
    "        train_accu= sess.run(accuracy,feed_dict={x:mnist.train.images,y:mnist.train.labels,keep_prob:1.0})\n",
    "        learning_rate = sess.run(lr)\n",
    "        print(\"{0} loop,train_accuracy:{1},test_accuracy:{2},learning_rate:{3}\".format(epoch,train_accu,test_accu,str(learning_rate)))"
   ]
  },
  {
   "cell_type": "code",
   "execution_count": null,
   "metadata": {},
   "outputs": [],
   "source": [
    "0 loop,train_accuracy:0.9516545534133911,test_accuracy:0.9466000199317932\n",
    "1 loop,train_accuracy:0.9696909189224243,test_accuracy:0.9628000259399414\n",
    "2 loop,train_accuracy:0.9674363732337952,test_accuracy:0.9607999920845032\n",
    "3 loop,train_accuracy:0.9818000197410583,test_accuracy:0.9710999727249146\n",
    "4 loop,train_accuracy:0.9849454760551453,test_accuracy:0.9715999960899353\n",
    "5 loop,train_accuracy:0.9878000020980835,test_accuracy:0.9753999710083008\n",
    "6 loop,train_accuracy:0.9895636439323425,test_accuracy:0.9728999733924866\n",
    "7 loop,train_accuracy:0.9909454584121704,test_accuracy:0.9745000004768372\n",
    "8 loop,train_accuracy:0.9903636574745178,test_accuracy:0.9753000140190125\n",
    "9 loop,train_accuracy:0.9924363493919373,test_accuracy:0.9768999814987183\n",
    "10 loop,train_accuracy:0.9936727285385132,test_accuracy:0.9771999716758728\n",
    "11 loop,train_accuracy:0.9939818382263184,test_accuracy:0.979200005531311\n",
    "12 loop,train_accuracy:0.9941636323928833,test_accuracy:0.9772999882698059\n",
    "13 loop,train_accuracy:0.994563639163971,test_accuracy:0.9789000153541565\n",
    "14 loop,train_accuracy:0.9945818185806274,test_accuracy:0.977400004863739\n",
    "15 loop,train_accuracy:0.9953272938728333,test_accuracy:0.9804999828338623\n",
    "16 loop,train_accuracy:0.9953091144561768,test_accuracy:0.9786999821662903\n",
    "17 loop,train_accuracy:0.9958727359771729,test_accuracy:0.9810000061988831\n",
    "18 loop,train_accuracy:0.9960727095603943,test_accuracy:0.9811000227928162\n",
    "19 loop,train_accuracy:0.9959818124771118,test_accuracy:0.9818999767303467\n",
    "20 loop,train_accuracy:0.9960727095603943,test_accuracy:0.9787999987602234\n",
    "21 loop,train_accuracy:0.9965090751647949,test_accuracy:0.9801999926567078\n",
    "22 loop,train_accuracy:0.9965636134147644,test_accuracy:0.9814000129699707\n",
    "23 loop,train_accuracy:0.9966182112693787,test_accuracy:0.9811999797821045\n",
    "24 loop,train_accuracy:0.9967272877693176,test_accuracy:0.9819999933242798\n",
    "25 loop,train_accuracy:0.9968000054359436,test_accuracy:0.9815000295639038\n",
    "26 loop,train_accuracy:0.9969272613525391,test_accuracy:0.9811999797821045\n",
    "27 loop,train_accuracy:0.9969454407691956,test_accuracy:0.9810000061988831\n",
    "28 loop,train_accuracy:0.997036337852478,test_accuracy:0.9807999730110168\n",
    "29 loop,train_accuracy:0.9970545172691345,test_accuracy:0.9815000295639038\n",
    "30 loop,train_accuracy:0.9971818327903748,test_accuracy:0.9819999933242798\n",
    "31 loop,train_accuracy:0.9972545504570007,test_accuracy:0.9812999963760376\n",
    "32 loop,train_accuracy:0.9972727298736572,test_accuracy:0.9804999828338623\n",
    "33 loop,train_accuracy:0.9973636269569397,test_accuracy:0.9814000129699707\n",
    "34 loop,train_accuracy:0.9973999857902527,test_accuracy:0.98089998960495\n",
    "35 loop,train_accuracy:0.9973999857902527,test_accuracy:0.9814000129699707\n",
    "36 loop,train_accuracy:0.9974363446235657,test_accuracy:0.9815000295639038\n",
    "37 loop,train_accuracy:0.9975090622901917,test_accuracy:0.9812999963760376\n",
    "38 loop,train_accuracy:0.9975090622901917,test_accuracy:0.9805999994277954\n",
    "39 loop,train_accuracy:0.9975454807281494,test_accuracy:0.9817000031471252\n",
    "40 loop,train_accuracy:0.9975454807281494,test_accuracy:0.9815999865531921\n",
    "41 loop,train_accuracy:0.9975454807281494,test_accuracy:0.9818000197410583\n",
    "42 loop,train_accuracy:0.9975818395614624,test_accuracy:0.9815000295639038\n",
    "43 loop,train_accuracy:0.9976181983947754,test_accuracy:0.9807999730110168\n",
    "44 loop,train_accuracy:0.9976181983947754,test_accuracy:0.9807000160217285\n",
    "45 loop,train_accuracy:0.9976727366447449,test_accuracy:0.9811999797821045\n",
    "46 loop,train_accuracy:0.9976909160614014,test_accuracy:0.9811000227928162\n",
    "47 loop,train_accuracy:0.9977090954780579,test_accuracy:0.9805999994277954\n",
    "48 loop,train_accuracy:0.9977090954780579,test_accuracy:0.9819999933242798\n",
    "49 loop,train_accuracy:0.9977090954780579,test_accuracy:0.9818999767303467\n",
    "50 loop,train_accuracy:0.9977272748947144,test_accuracy:0.9815000295639038"
   ]
  }
 ],
 "metadata": {
  "kernelspec": {
   "display_name": "Python 3",
   "language": "python",
   "name": "python3"
  },
  "language_info": {
   "codemirror_mode": {
    "name": "ipython",
    "version": 3
   },
   "file_extension": ".py",
   "mimetype": "text/x-python",
   "name": "python",
   "nbconvert_exporter": "python",
   "pygments_lexer": "ipython3",
   "version": "3.6.4"
  }
 },
 "nbformat": 4,
 "nbformat_minor": 2
}
