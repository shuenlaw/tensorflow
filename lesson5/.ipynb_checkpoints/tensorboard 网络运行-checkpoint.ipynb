{
 "cells": [
  {
   "cell_type": "code",
   "execution_count": 1,
   "metadata": {},
   "outputs": [
    {
     "name": "stderr",
     "output_type": "stream",
     "text": [
      "C:\\Users\\Administrator\\Anaconda3\\lib\\site-packages\\h5py\\__init__.py:36: FutureWarning: Conversion of the second argument of issubdtype from `float` to `np.floating` is deprecated. In future, it will be treated as `np.float64 == np.dtype(float).type`.\n",
      "  from ._conv import register_converters as _register_converters\n"
     ]
    },
    {
     "data": {
      "text/plain": [
       "'\\n修改程序后要restart kernel\\n'"
      ]
     },
     "execution_count": 1,
     "metadata": {},
     "output_type": "execute_result"
    }
   ],
   "source": [
    "import tensorflow as tf\n",
    "from tensorflow.examples.tutorials.mnist import input_data\n",
    "'''\n",
    "修改程序后要restart kernel\n",
    "'''"
   ]
  },
  {
   "cell_type": "code",
   "execution_count": 2,
   "metadata": {},
   "outputs": [
    {
     "ename": "IndentationError",
     "evalue": "expected an indented block (<ipython-input-2-d5f9cac2fbee>, line 61)",
     "output_type": "error",
     "traceback": [
      "\u001b[1;36m  File \u001b[1;32m\"<ipython-input-2-d5f9cac2fbee>\"\u001b[1;36m, line \u001b[1;32m61\u001b[0m\n\u001b[1;33m    batch_xs,batch_ys = mnist.train.next_batch(batch_size)\u001b[0m\n\u001b[1;37m           ^\u001b[0m\n\u001b[1;31mIndentationError\u001b[0m\u001b[1;31m:\u001b[0m expected an indented block\n"
     ]
    }
   ],
   "source": [
    "mnist = input_data.read_data_sets(\"MNIST_data\",one_hot=True)\n",
    "\n",
    "batch_size = 100\n",
    "n_batch = mnist.train.num_examples // batch_size\n",
    "\n",
    "#参数概要\n",
    "def variable_summaries(var):\n",
    "    with tf.name_scope('summaries'):\n",
    "        mean = tf.reduce_mean(var)#平均值\n",
    "        #记录值\n",
    "        tf.summary.scalar('mean',mean)\n",
    "        with tf.name_scope('stddev'):\n",
    "            stddev = tf.sqrt(tf.reduce_mean(tf.square(var-mean)))#标准差\n",
    "        tf.summary.scalar('stddev',stddev)\n",
    "        tf.summary.scalar('max',tf.reduce_max(var))#最大值\n",
    "        tf.summary.scalar('min',tf.reduce_min(var))#最小值\n",
    "        tf.summary.histogram('histogram',var)#直方图\n",
    "\n",
    "with tf.name_scope('input'):\n",
    "    x = tf.placeholder(tf.float32,[None,784],name='x_t')\n",
    "    y = tf.placeholder(tf.float32,[None,10],name='y_t')\n",
    "    \n",
    "with tf.name_scope('layer'):\n",
    "    with tf.name_scope('weights'):\n",
    "        W = tf.Variable(tf.zeros([784,10]),name='W')\n",
    "        #在网络运行的过程中，保存权值的变化\n",
    "        variable_summaries(W)\n",
    "    with tf.name_scope('biases'):\n",
    "        b = tf.Variable(tf.zeros([1,10]),name='b')\n",
    "        variable_summaries(b)\n",
    "    with tf.name_scope('Wx_plus_b'):\n",
    "        L1 = tf.matmul(x,W)+b\n",
    "    with tf.name_scope('softmax'):\n",
    "        prediction = tf.nn.sigmoid(L1)\n",
    "        \n",
    "with tf.name_scope('loss'):\n",
    "    '''\n",
    "    就是因为loss没有求平均值，才导致数据格式不对，没有求平均值是数组，求了平均值是数字\n",
    "    '''\n",
    "    loss = tf.reduce_mean(tf.nn.softmax_cross_entropy_with_logits(labels=y,logits=prediction))\n",
    "    tf.summary.scalar('loss',loss)\n",
    "    \n",
    "with tf.name_scope('train'):\n",
    "    train = tf.train.GradientDescentOptimizer(0.2).minimize(loss)\n",
    "    \n",
    "with tf.name_scope('accuracy_prediction'):\n",
    "    with tf.name_scope('correct'):\n",
    "        correct = tf.equal(tf.argmax(y,1),tf.argmax(prediction,1))\n",
    "    with tf.name_scope('accuracy'):\n",
    "        accuracy = tf.reduce_mean(tf.cast(correct,tf.float32))\n",
    "        tf.summary.scalar('accuracy',accuracy)\n",
    "\n",
    "#合并所有summary\n",
    "merged = tf.summary.merge_all()\n",
    "\n",
    "with tf.Session() as sess:\n",
    "    sess.run(tf.global_variables_initializer())\n",
    "    writer = tf.summary.FileWriter('logs/',sess.graph)\n",
    "    \n",
    "    for i in range(2001):\n",
    "        batch_xs,batch_ys = mnist.train.next_batch(batch_size)\n",
    "        summary,_ = sess.run([merged,train],feed_dict={x:batch_xs,y:batch_ys})\n",
    "        writer.add_summary(summary,i)\n",
    "        accu= sess.run(accuracy,feed_dict={x:mnist.test.images,y:mnist.test.labels})\n",
    "#     for epoch in range(51):\n",
    "#         for batch in range(n_batch):\n",
    "#             batch_xs,batch_ys = mnist.train.next_batch(batch_size)\n",
    "#             summary,_ = sess.run([merged,train],feed_dict={x:batch_xs,y:batch_ys})\n",
    "#             #也要把epoch写进去，作为横坐标\n",
    "#             writer.add_summary(summary,j)\n",
    "#         accu= sess.run(accuracy,feed_dict={x:mnist.test.images,y:mnist.test.labels})\n",
    "        print(\"{0} loop,accuracy:{1}\".format(i,accu))"
   ]
  }
 ],
 "metadata": {
  "kernelspec": {
   "display_name": "Python 3",
   "language": "python",
   "name": "python3"
  },
  "language_info": {
   "codemirror_mode": {
    "name": "ipython",
    "version": 3
   },
   "file_extension": ".py",
   "mimetype": "text/x-python",
   "name": "python",
   "nbconvert_exporter": "python",
   "pygments_lexer": "ipython3",
   "version": "3.6.4"
  }
 },
 "nbformat": 4,
 "nbformat_minor": 2
}
